{
 "cells": [
  {
   "cell_type": "code",
   "execution_count": 7,
   "metadata": {},
   "outputs": [],
   "source": [
    "from ultralytics import YOLO\n",
    "import cv2\n",
    "import math "
   ]
  },
  {
   "cell_type": "code",
   "execution_count": 8,
   "metadata": {},
   "outputs": [
    {
     "name": "stderr",
     "output_type": "stream",
     "text": [
      "Downloading https://github.com/ultralytics/assets/releases/download/v0.0.0/yolov8n.pt to 'yolo-Weights\\yolov8n.pt'...\n",
      "100%|██████████| 6.23M/6.23M [00:01<00:00, 6.07MB/s]\n",
      "\n",
      "0: 480x640 1 dog, 1 bear, 165.8ms\n",
      "Speed: 4.0ms preprocess, 165.8ms inference, 3.0ms postprocess per image at shape (1, 3, 480, 640)\n"
     ]
    }
   ],
   "source": [
    "# Abre camara \n",
    "cap = cv2.VideoCapture(0)\n",
    "cap.set(3, 640)\n",
    "cap.set(4, 480)\n",
    "\n",
    "# modelo\n",
    "model = YOLO(\"yolo-Weights/yolov8n.pt\")\n",
    "\n",
    "# object classes\n",
    "confidence = 0.0\n",
    "\n",
    "while confidence < 0.80:\n",
    "    success, img = cap.read()\n",
    "    results = model(img, stream=True)\n",
    "    detected_person = False\n",
    "\n",
    "    for r in results:\n",
    "        boxes = r.boxes\n",
    "\n",
    "        for box in boxes:\n",
    "            # bounding box\n",
    "            x1, y1, x2, y2 = box.xyxy[0]\n",
    "            x1, y1, x2, y2 = int(x1), int(y1), int(x2), int(y2) # convert to int values\n",
    "\n",
    "            # Dibujar el bounding box de yolo a la detección\n",
    "            cv2.rectangle(img, (x1, y1), (x2, y2), (255, 0, 255), 3)\n",
    "\n",
    "            # confidence del obj detectado\n",
    "            confidence = math.ceil((box.conf[0]*100))/100\n",
    "            \n",
    "            # Mostrar el nombre del objeto en imagen \n",
    "            org = [x1, y1]\n",
    "            font = cv2.FONT_HERSHEY_SIMPLEX\n",
    "            fontScale = 1\n",
    "            color = (255, 0, 0)\n",
    "            thickness = 2\n",
    "\n",
    "            # Imagen con objeto detectado \n",
    "            cv2.putText(img, 'Persona', org, font, fontScale, color, thickness)\n",
    "            detected_person = True\n",
    "\n",
    "    if detected_person:\n",
    "        # Recorta y guarda unicamente el box identificado por yolo \n",
    "        cropped_img = img[y1:y2, x1:x2]\n",
    "        filename2 = f\"detected_person.png\"\n",
    "        cv2.imwrite(filename2, cropped_img)\n",
    "\n",
    "        # Cierra camara y ventana emergente \n",
    "        cap.release()\n",
    "        cv2.destroyAllWindows()\n",
    "        break"
   ]
  },
  {
   "cell_type": "markdown",
   "metadata": {},
   "source": [
    "https://www.kaggle.com/datasets/jonathanoheix/face-expression-recognition-dataset/data \n",
    "\n",
    "DATASET usado en deep \n"
   ]
  }
 ],
 "metadata": {
  "kernelspec": {
   "display_name": "Python 3",
   "language": "python",
   "name": "python3"
  },
  "language_info": {
   "codemirror_mode": {
    "name": "ipython",
    "version": 3
   },
   "file_extension": ".py",
   "mimetype": "text/x-python",
   "name": "python",
   "nbconvert_exporter": "python",
   "pygments_lexer": "ipython3",
   "version": "3.11.2"
  }
 },
 "nbformat": 4,
 "nbformat_minor": 2
}
